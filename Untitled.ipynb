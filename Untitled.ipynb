{
 "cells": [
  {
   "cell_type": "code",
   "execution_count": 1,
   "id": "approved-trick",
   "metadata": {},
   "outputs": [],
   "source": [
    "import cv2\n"
   ]
  },
  {
   "cell_type": "code",
   "execution_count": 3,
   "id": "unable-devices",
   "metadata": {},
   "outputs": [],
   "source": [
    "img = cv2.imread('terst.jpg', -1)"
   ]
  },
  {
   "cell_type": "code",
   "execution_count": 5,
   "id": "consolidated-sunset",
   "metadata": {},
   "outputs": [
    {
     "ename": "error",
     "evalue": "OpenCV(4.5.3) /private/var/folders/24/8k48jl6d249_n_qfxwsl6xvm0000gn/T/pip-req-build-vy_omupv/opencv/modules/highgui/src/window.cpp:1006: error: (-215:Assertion failed) size.width>0 && size.height>0 in function 'imshow'\n",
     "output_type": "error",
     "traceback": [
      "\u001b[0;31m---------------------------------------------------------------------------\u001b[0m",
      "\u001b[0;31merror\u001b[0m                                     Traceback (most recent call last)",
      "\u001b[0;32m<ipython-input-5-698b8ee3983f>\u001b[0m in \u001b[0;36m<module>\u001b[0;34m\u001b[0m\n\u001b[0;32m----> 1\u001b[0;31m \u001b[0mcv2\u001b[0m\u001b[0;34m.\u001b[0m\u001b[0mimshow\u001b[0m\u001b[0;34m(\u001b[0m\u001b[0;34m\"i\"\u001b[0m\u001b[0;34m,\u001b[0m \u001b[0mimg\u001b[0m\u001b[0;34m)\u001b[0m\u001b[0;34m\u001b[0m\u001b[0;34m\u001b[0m\u001b[0m\n\u001b[0m",
      "\u001b[0;31merror\u001b[0m: OpenCV(4.5.3) /private/var/folders/24/8k48jl6d249_n_qfxwsl6xvm0000gn/T/pip-req-build-vy_omupv/opencv/modules/highgui/src/window.cpp:1006: error: (-215:Assertion failed) size.width>0 && size.height>0 in function 'imshow'\n"
     ]
    }
   ],
   "source": [
    "cv2.imshow(\"i\", img)"
   ]
  },
  {
   "cell_type": "code",
   "execution_count": 6,
   "id": "distant-penny",
   "metadata": {},
   "outputs": [],
   "source": [
    "img"
   ]
  },
  {
   "cell_type": "code",
   "execution_count": 7,
   "id": "arranged-funeral",
   "metadata": {},
   "outputs": [
    {
     "ename": "error",
     "evalue": "OpenCV(4.5.3) /private/var/folders/24/8k48jl6d249_n_qfxwsl6xvm0000gn/T/pip-req-build-vy_omupv/opencv/modules/highgui/src/window.cpp:1006: error: (-215:Assertion failed) size.width>0 && size.height>0 in function 'imshow'\n",
     "output_type": "error",
     "traceback": [
      "\u001b[0;31m---------------------------------------------------------------------------\u001b[0m",
      "\u001b[0;31merror\u001b[0m                                     Traceback (most recent call last)",
      "\u001b[0;32m<ipython-input-7-32ead5b512ac>\u001b[0m in \u001b[0;36m<module>\u001b[0;34m\u001b[0m\n\u001b[0;32m----> 1\u001b[0;31m \u001b[0mcv2\u001b[0m\u001b[0;34m.\u001b[0m\u001b[0mimshow\u001b[0m\u001b[0;34m(\u001b[0m\u001b[0;34m'test'\u001b[0m\u001b[0;34m,\u001b[0m \u001b[0mimg\u001b[0m\u001b[0;34m)\u001b[0m\u001b[0;34m\u001b[0m\u001b[0;34m\u001b[0m\u001b[0m\n\u001b[0m",
      "\u001b[0;31merror\u001b[0m: OpenCV(4.5.3) /private/var/folders/24/8k48jl6d249_n_qfxwsl6xvm0000gn/T/pip-req-build-vy_omupv/opencv/modules/highgui/src/window.cpp:1006: error: (-215:Assertion failed) size.width>0 && size.height>0 in function 'imshow'\n"
     ]
    }
   ],
   "source": [
    "cv2.imshow('test', img)"
   ]
  },
  {
   "cell_type": "code",
   "execution_count": 8,
   "id": "provincial-dealing",
   "metadata": {},
   "outputs": [],
   "source": [
    "from PIL import Image, ImageDraw, ImageFilter"
   ]
  },
  {
   "cell_type": "code",
   "execution_count": 10,
   "id": "wooden-therapist",
   "metadata": {},
   "outputs": [],
   "source": [
    "img = Image.open('test.jPG')"
   ]
  },
  {
   "cell_type": "code",
   "execution_count": 11,
   "id": "regulation-privilege",
   "metadata": {},
   "outputs": [
    {
     "data": {
      "image/png": "[encoded data removed]",
      "text/plain": [
       "<PIL.JpegImagePlugin.JpegImageFile image mode=RGB size=104x28 at 0x11EFD8430>"
      ]
     },
     "execution_count": 11,
     "metadata": {},
     "output_type": "execute_result"
    }
   ],
   "source": [
    "img"
   ]
  },
  {
   "cell_type": "code",
   "execution_count": 12,
   "id": "organizational-prisoner",
   "metadata": {},
   "outputs": [],
   "source": [
    "import cv2\n"
   ]
  },
  {
   "cell_type": "code",
   "execution_count": 13,
   "id": "constitutional-armenia",
   "metadata": {},
   "outputs": [],
   "source": [
    "img_c = cv2.imread('test.jpg' , -1)"
   ]
  },
  {
   "cell_type": "code",
   "execution_count": null,
   "id": "expensive-tanzania",
   "metadata": {},
   "outputs": [],
   "source": []
  },
  {
   "cell_type": "code",
   "execution_count": 14,
   "id": "complimentary-directive",
   "metadata": {},
   "outputs": [],
   "source": [
    "cv2.imshow('test', img_c)"
   ]
  },
  {
   "cell_type": "code",
   "execution_count": 15,
   "id": "german-grocery",
   "metadata": {},
   "outputs": [
    {
     "ename": "AttributeError",
     "evalue": "module 'cv2.cv2' has no attribute 'show'",
     "output_type": "error",
     "traceback": [
      "\u001b[0;31m---------------------------------------------------------------------------\u001b[0m",
      "\u001b[0;31mAttributeError\u001b[0m                            Traceback (most recent call last)",
      "\u001b[0;32m<ipython-input-15-911a666136f2>\u001b[0m in \u001b[0;36m<module>\u001b[0;34m\u001b[0m\n\u001b[0;32m----> 1\u001b[0;31m \u001b[0mcv2\u001b[0m\u001b[0;34m.\u001b[0m\u001b[0mshow\u001b[0m\u001b[0;34m(\u001b[0m\u001b[0;34m)\u001b[0m\u001b[0;34m\u001b[0m\u001b[0;34m\u001b[0m\u001b[0m\n\u001b[0m",
      "\u001b[0;31mAttributeError\u001b[0m: module 'cv2.cv2' has no attribute 'show'"
     ]
    }
   ],
   "source": [
    "cv2.show()"
   ]
  },
  {
   "cell_type": "markdown",
   "id": "confidential-sleep",
   "metadata": {},
   "source": [
    "import matplotlib.pyplot as plt"
   ]
  },
  {
   "cell_type": "code",
   "execution_count": 16,
   "id": "undefined-methodology",
   "metadata": {},
   "outputs": [
    {
     "ename": "ModuleNotFoundError",
     "evalue": "No module named 'matplotlib'",
     "output_type": "error",
     "traceback": [
      "\u001b[0;31m---------------------------------------------------------------------------\u001b[0m",
      "\u001b[0;31mModuleNotFoundError\u001b[0m                       Traceback (most recent call last)",
      "\u001b[0;32m<ipython-input-16-a0d2faabd9e9>\u001b[0m in \u001b[0;36m<module>\u001b[0;34m\u001b[0m\n\u001b[0;32m----> 1\u001b[0;31m \u001b[0;32mimport\u001b[0m \u001b[0mmatplotlib\u001b[0m\u001b[0;34m.\u001b[0m\u001b[0mpyplot\u001b[0m \u001b[0;32mas\u001b[0m \u001b[0mplt\u001b[0m\u001b[0;34m\u001b[0m\u001b[0;34m\u001b[0m\u001b[0m\n\u001b[0m",
      "\u001b[0;31mModuleNotFoundError\u001b[0m: No module named 'matplotlib'"
     ]
    }
   ],
   "source": [
    "import matplotlib.pyplot as plt"
   ]
  },
  {
   "cell_type": "code",
   "execution_count": 18,
   "id": "faced-meaning",
   "metadata": {},
   "outputs": [
    {
     "name": "stdout",
     "output_type": "stream",
     "text": [
      "Collecting matplotlib\n",
      "  Downloading matplotlib-3.4.3-cp39-cp39-macosx_10_9_x86_64.whl (7.2 MB)\n",
      "\u001b[K     |████████████████████████████████| 7.2 MB 5.3 MB/s eta 0:00:01     |█████████████████▎              | 3.9 MB 5.3 MB/s eta 0:00:01     |█████████████████████           | 4.7 MB 5.3 MB/s eta 0:00:01     |██████████████████████████████▎ | 6.8 MB 5.3 MB/s eta 0:00:01\n",
      "\u001b[?25hCollecting cycler>=0.10\n",
      "  Downloading cycler-0.10.0-py2.py3-none-any.whl (6.5 kB)\n",
      "Requirement already satisfied: numpy>=1.16 in /usr/local/lib/python3.9/site-packages (from matplotlib) (1.21.2)\n",
      "Requirement already satisfied: pillow>=6.2.0 in /usr/local/lib/python3.9/site-packages (from matplotlib) (8.1.2)\n",
      "Requirement already satisfied: pyparsing>=2.2.1 in /usr/local/lib/python3.9/site-packages (from matplotlib) (2.4.7)\n",
      "Collecting kiwisolver>=1.0.1\n",
      "  Downloading kiwisolver-1.3.2-cp39-cp39-macosx_10_9_x86_64.whl (61 kB)\n",
      "\u001b[K     |████████████████████████████████| 61 kB 642 kB/s  eta 0:00:01\n",
      "\u001b[?25hRequirement already satisfied: python-dateutil>=2.7 in /usr/local/lib/python3.9/site-packages (from matplotlib) (2.8.1)\n",
      "Requirement already satisfied: six in /usr/local/lib/python3.9/site-packages (from cycler>=0.10->matplotlib) (1.15.0)\n",
      "Installing collected packages: kiwisolver, cycler, matplotlib\n",
      "Successfully installed cycler-0.10.0 kiwisolver-1.3.2 matplotlib-3.4.3\n",
      "\u001b[33mWARNING: You are using pip version 21.0.1; however, version 21.2.4 is available.\n",
      "You should consider upgrading via the '/usr/local/opt/python@3.9/bin/python3.9 -m pip install --upgrade pip' command.\u001b[0m\n",
      "Note: you may need to restart the kernel to use updated packages.\n"
     ]
    }
   ],
   "source": [
    "pip install matplotlib"
   ]
  },
  {
   "cell_type": "code",
   "execution_count": 19,
   "id": "center-reach",
   "metadata": {},
   "outputs": [],
   "source": [
    "import matplotlib.pyplot as plt"
   ]
  },
  {
   "cell_type": "code",
   "execution_count": 20,
   "id": "knowing-obligation",
   "metadata": {},
   "outputs": [
    {
     "data": {
      "text/plain": [
       "<matplotlib.image.AxesImage at 0x122a57b50>"
      ]
     },
     "execution_count": 20,
     "metadata": {},
     "output_type": "execute_result"
    },
    {
     "data": {
      "image/png": "[encoded data removed]",
      "text/plain": [
       "<Figure size 432x288 with 1 Axes>"
      ]
     },
     "metadata": {
      "needs_background": "light"
     },
     "output_type": "display_data"
    }
   ],
   "source": [
    "plt.imshow(img_c)"
   ]
  },
  {
   "cell_type": "code",
   "execution_count": 21,
   "id": "stopped-occasion",
   "metadata": {},
   "outputs": [
    {
     "data": {
      "text/plain": [
       "<matplotlib.image.AxesImage at 0x122b021f0>"
      ]
     },
     "execution_count": 21,
     "metadata": {},
     "output_type": "execute_result"
    },
    {
     "data": {
      "image/png": "[encoded data removed]",
      "text/plain": [
       "<Figure size 432x288 with 1 Axes>"
      ]
     },
     "metadata": {
      "needs_background": "light"
     },
     "output_type": "display_data"
    }
   ],
   "source": [
    "plt.imshow(img)"
   ]
  },
  {
   "cell_type": "code",
   "execution_count": 22,
   "id": "historical-disclaimer",
   "metadata": {},
   "outputs": [],
   "source": [
    "import numpy as no"
   ]
  },
  {
   "cell_type": "code",
   "execution_count": 27,
   "id": "adopted-complex",
   "metadata": {},
   "outputs": [],
   "source": [
    "img = cv2.imread('test.jpg', -1)"
   ]
  },
  {
   "cell_type": "code",
   "execution_count": 28,
   "id": "arbitrary-filling",
   "metadata": {},
   "outputs": [
    {
     "data": {
      "text/plain": [
       "<matplotlib.image.AxesImage at 0x121882a90>"
      ]
     },
     "execution_count": 28,
     "metadata": {},
     "output_type": "execute_result"
    },
    {
     "data": {
      "image/png": "[encoded data removed]",
      "text/plain": [
       "<Figure size 432x288 with 1 Axes>"
      ]
     },
     "metadata": {
      "needs_background": "light"
     },
     "output_type": "display_data"
    }
   ],
   "source": [
    "plt.imshow(img)"
   ]
  },
  {
   "cell_type": "code",
   "execution_count": 29,
   "id": "industrial-egypt",
   "metadata": {},
   "outputs": [],
   "source": [
    "img = cv2.imread('test.jpg')"
   ]
  },
  {
   "cell_type": "code",
   "execution_count": 30,
   "id": "official-cache",
   "metadata": {},
   "outputs": [
    {
     "data": {
      "text/plain": [
       "<matplotlib.image.AxesImage at 0x1218e6760>"
      ]
     },
     "execution_count": 30,
     "metadata": {},
     "output_type": "execute_result"
    },
    {
     "data": {
      "image/png": "[encoded data removed]",
      "text/plain": [
       "<Figure size 432x288 with 1 Axes>"
      ]
     },
     "metadata": {
      "needs_background": "light"
     },
     "output_type": "display_data"
    }
   ],
   "source": [
    "plt.imshow(img)"
   ]
  },
  {
   "cell_type": "code",
   "execution_count": 33,
   "id": "chemical-documentary",
   "metadata": {},
   "outputs": [],
   "source": [
    "hsv = cv2.cvtColor(img, cv2.COLOR_BGR2HSV)"
   ]
  },
  {
   "cell_type": "code",
   "execution_count": 37,
   "id": "interracial-december",
   "metadata": {},
   "outputs": [],
   "source": [
    "gauss = cv2.GaussianBlur(hsv, (9,9), 3)"
   ]
  },
  {
   "cell_type": "code",
   "execution_count": 38,
   "id": "bulgarian-danger",
   "metadata": {},
   "outputs": [
    {
     "data": {
      "text/plain": [
       "<matplotlib.image.AxesImage at 0x12194aa60>"
      ]
     },
     "execution_count": 38,
     "metadata": {},
     "output_type": "execute_result"
    },
    {
     "data": {
      "image/png": "[encoded data removed]",
      "text/plain": [
       "<Figure size 432x288 with 1 Axes>"
      ]
     },
     "metadata": {
      "needs_background": "light"
     },
     "output_type": "display_data"
    }
   ],
   "source": [
    "plt.imshow(gauss)"
   ]
  },
  {
   "cell_type": "code",
   "execution_count": 39,
   "id": "selective-incident",
   "metadata": {},
   "outputs": [
    {
     "data": {
      "text/plain": [
       "True"
      ]
     },
     "execution_count": 39,
     "metadata": {},
     "output_type": "execute_result"
    }
   ],
   "source": [
    "cv2.imwrite('gauss.png', gauss)"
   ]
  },
  {
   "cell_type": "code",
   "execution_count": 40,
   "id": "professional-memory",
   "metadata": {},
   "outputs": [],
   "source": [
    "img_h, img_s, img_v = cv2.split(gauss)"
   ]
  },
  {
   "cell_type": "code",
   "execution_count": 41,
   "id": "behind-driving",
   "metadata": {},
   "outputs": [
    {
     "data": {
      "text/plain": [
       "<matplotlib.image.AxesImage at 0x1219af8e0>"
      ]
     },
     "execution_count": 41,
     "metadata": {},
     "output_type": "execute_result"
    },
    {
     "data": {
      "image/png": "[encoded data removed]",
      "text/plain": [
       "<Figure size 432x288 with 1 Axes>"
      ]
     },
     "metadata": {
      "needs_background": "light"
     },
     "output_type": "display_data"
    }
   ],
   "source": [
    "plt.imshow(img_h)"
   ]
  },
  {
   "cell_type": "code",
   "execution_count": 42,
   "id": "biological-credits",
   "metadata": {},
   "outputs": [
    {
     "data": {
      "text/plain": [
       "array([[[233, 231, 230],\n",
       "        [233, 231, 230],\n",
       "        [233, 231, 230],\n",
       "        ...,\n",
       "        [233, 231, 230],\n",
       "        [233, 231, 230],\n",
       "        [233, 231, 230]],\n",
       "\n",
       "       [[233, 231, 230],\n",
       "        [233, 231, 230],\n",
       "        [233, 231, 230],\n",
       "        ...,\n",
       "        [233, 231, 230],\n",
       "        [233, 231, 230],\n",
       "        [233, 231, 230]],\n",
       "\n",
       "       [[233, 231, 230],\n",
       "        [233, 231, 230],\n",
       "        [233, 231, 230],\n",
       "        ...,\n",
       "        [233, 231, 230],\n",
       "        [233, 231, 230],\n",
       "        [233, 231, 230]],\n",
       "\n",
       "       ...,\n",
       "\n",
       "       [[233, 231, 231],\n",
       "        [233, 231, 231],\n",
       "        [233, 231, 230],\n",
       "        ...,\n",
       "        [233, 231, 230],\n",
       "        [233, 231, 230],\n",
       "        [233, 231, 230]],\n",
       "\n",
       "       [[233, 231, 231],\n",
       "        [233, 231, 231],\n",
       "        [233, 231, 231],\n",
       "        ...,\n",
       "        [233, 231, 230],\n",
       "        [233, 231, 230],\n",
       "        [233, 231, 230]],\n",
       "\n",
       "       [[233, 231, 231],\n",
       "        [233, 231, 231],\n",
       "        [233, 231, 231],\n",
       "        ...,\n",
       "        [233, 231, 230],\n",
       "        [233, 231, 230],\n",
       "        [233, 231, 230]]], dtype=uint8)"
      ]
     },
     "execution_count": 42,
     "metadata": {},
     "output_type": "execute_result"
    }
   ],
   "source": [
    "img"
   ]
  },
  {
   "cell_type": "code",
   "execution_count": 43,
   "id": "controlling-diameter",
   "metadata": {},
   "outputs": [
    {
     "data": {
      "text/plain": [
       "array([[[233, 231, 230],\n",
       "        [233, 231, 230],\n",
       "        [233, 231, 230],\n",
       "        ...,\n",
       "        [233, 231, 230],\n",
       "        [233, 231, 230],\n",
       "        [233, 231, 230]],\n",
       "\n",
       "       [[233, 231, 230],\n",
       "        [233, 231, 230],\n",
       "        [233, 231, 230],\n",
       "        ...,\n",
       "        [233, 231, 230],\n",
       "        [233, 231, 230],\n",
       "        [233, 231, 230]],\n",
       "\n",
       "       [[233, 231, 230],\n",
       "        [233, 231, 230],\n",
       "        [233, 231, 230],\n",
       "        ...,\n",
       "        [233, 231, 230],\n",
       "        [233, 231, 230],\n",
       "        [233, 231, 230]],\n",
       "\n",
       "       ...,\n",
       "\n",
       "       [[233, 231, 231],\n",
       "        [233, 231, 231],\n",
       "        [233, 231, 230],\n",
       "        ...,\n",
       "        [233, 231, 230],\n",
       "        [233, 231, 230],\n",
       "        [233, 231, 230]],\n",
       "\n",
       "       [[233, 231, 231],\n",
       "        [233, 231, 231],\n",
       "        [233, 231, 231],\n",
       "        ...,\n",
       "        [233, 231, 230],\n",
       "        [233, 231, 230],\n",
       "        [233, 231, 230]],\n",
       "\n",
       "       [[233, 231, 231],\n",
       "        [233, 231, 231],\n",
       "        [233, 231, 231],\n",
       "        ...,\n",
       "        [233, 231, 230],\n",
       "        [233, 231, 230],\n",
       "        [233, 231, 230]]], dtype=uint8)"
      ]
     },
     "execution_count": 43,
     "metadata": {},
     "output_type": "execute_result"
    }
   ],
   "source": [
    "img"
   ]
  },
  {
   "cell_type": "code",
   "execution_count": 44,
   "id": "involved-metabolism",
   "metadata": {},
   "outputs": [
    {
     "data": {
      "text/plain": [
       "array([[[233, 231, 230],\n",
       "        [233, 231, 230],\n",
       "        [233, 231, 230],\n",
       "        ...,\n",
       "        [233, 231, 230],\n",
       "        [233, 231, 230],\n",
       "        [233, 231, 230]],\n",
       "\n",
       "       [[233, 231, 230],\n",
       "        [233, 231, 230],\n",
       "        [233, 231, 230],\n",
       "        ...,\n",
       "        [233, 231, 230],\n",
       "        [233, 231, 230],\n",
       "        [233, 231, 230]],\n",
       "\n",
       "       [[233, 231, 230],\n",
       "        [233, 231, 230],\n",
       "        [233, 231, 230],\n",
       "        ...,\n",
       "        [233, 231, 230],\n",
       "        [233, 231, 230],\n",
       "        [233, 231, 230]],\n",
       "\n",
       "       ...,\n",
       "\n",
       "       [[233, 231, 231],\n",
       "        [233, 231, 231],\n",
       "        [233, 231, 230],\n",
       "        ...,\n",
       "        [233, 231, 230],\n",
       "        [233, 231, 230],\n",
       "        [233, 231, 230]],\n",
       "\n",
       "       [[233, 231, 231],\n",
       "        [233, 231, 231],\n",
       "        [233, 231, 231],\n",
       "        ...,\n",
       "        [233, 231, 230],\n",
       "        [233, 231, 230],\n",
       "        [233, 231, 230]],\n",
       "\n",
       "       [[233, 231, 231],\n",
       "        [233, 231, 231],\n",
       "        [233, 231, 231],\n",
       "        ...,\n",
       "        [233, 231, 230],\n",
       "        [233, 231, 230],\n",
       "        [233, 231, 230]]], dtype=uint8)"
      ]
     },
     "execution_count": 44,
     "metadata": {},
     "output_type": "execute_result"
    }
   ],
   "source": [
    "img"
   ]
  },
  {
   "cell_type": "code",
   "execution_count": 48,
   "id": "processed-cylinder",
   "metadata": {},
   "outputs": [],
   "source": [
    "ret, img_mask = cv2.threshold(img_h, 140, 255, cv2.THRESH_BINARY)"
   ]
  },
  {
   "cell_type": "code",
   "execution_count": 49,
   "id": "encouraging-exhibition",
   "metadata": {},
   "outputs": [
    {
     "data": {
      "text/plain": [
       "<matplotlib.image.AxesImage at 0x121a9c9d0>"
      ]
     },
     "execution_count": 49,
     "metadata": {},
     "output_type": "execute_result"
    },
    {
     "data": {
      "image/png": "[encoded data removed]",
      "text/plain": [
       "<Figure size 432x288 with 1 Axes>"
      ]
     },
     "metadata": {
      "needs_background": "light"
     },
     "output_type": "display_data"
    }
   ],
   "source": [
    "plt.imshow(img_mask)"
   ]
  },
  {
   "cell_type": "code",
   "execution_count": 50,
   "id": "infrared-relief",
   "metadata": {},
   "outputs": [],
   "source": [
    "contours, hie = cv2.findContours(img_mask, cv2.RETR_LIST, cv2.CHAIN_APPROX_NONE)"
   ]
  },
  {
   "cell_type": "code",
   "execution_count": 51,
   "id": "active-junior",
   "metadata": {},
   "outputs": [
    {
     "data": {
      "text/plain": [
       "[array([[[23,  0]],\n",
       " \n",
       "        [[23,  1]],\n",
       " \n",
       "        [[23,  2]],\n",
       " \n",
       "        [[23,  3]],\n",
       " \n",
       "        [[22,  4]],\n",
       " \n",
       "        [[22,  5]],\n",
       " \n",
       "        [[21,  6]],\n",
       " \n",
       "        [[21,  7]],\n",
       " \n",
       "        [[21,  8]],\n",
       " \n",
       "        [[22,  9]],\n",
       " \n",
       "        [[22, 10]],\n",
       " \n",
       "        [[22, 11]],\n",
       " \n",
       "        [[22, 12]],\n",
       " \n",
       "        [[23, 13]],\n",
       " \n",
       "        [[22, 14]],\n",
       " \n",
       "        [[22, 15]],\n",
       " \n",
       "        [[22, 16]],\n",
       " \n",
       "        [[22, 17]],\n",
       " \n",
       "        [[21, 18]],\n",
       " \n",
       "        [[21, 19]],\n",
       " \n",
       "        [[21, 20]],\n",
       " \n",
       "        [[21, 21]],\n",
       " \n",
       "        [[21, 22]],\n",
       " \n",
       "        [[21, 23]],\n",
       " \n",
       "        [[22, 24]],\n",
       " \n",
       "        [[23, 25]],\n",
       " \n",
       "        [[24, 26]],\n",
       " \n",
       "        [[24, 27]],\n",
       " \n",
       "        [[25, 27]],\n",
       " \n",
       "        [[26, 27]],\n",
       " \n",
       "        [[27, 27]],\n",
       " \n",
       "        [[28, 27]],\n",
       " \n",
       "        [[29, 27]],\n",
       " \n",
       "        [[30, 27]],\n",
       " \n",
       "        [[31, 27]],\n",
       " \n",
       "        [[32, 27]],\n",
       " \n",
       "        [[33, 27]],\n",
       " \n",
       "        [[34, 27]],\n",
       " \n",
       "        [[35, 27]],\n",
       " \n",
       "        [[36, 27]],\n",
       " \n",
       "        [[37, 26]],\n",
       " \n",
       "        [[38, 25]],\n",
       " \n",
       "        [[39, 25]],\n",
       " \n",
       "        [[40, 24]],\n",
       " \n",
       "        [[41, 23]],\n",
       " \n",
       "        [[42, 23]],\n",
       " \n",
       "        [[43, 22]],\n",
       " \n",
       "        [[44, 22]],\n",
       " \n",
       "        [[45, 23]],\n",
       " \n",
       "        [[46, 23]],\n",
       " \n",
       "        [[47, 24]],\n",
       " \n",
       "        [[47, 25]],\n",
       " \n",
       "        [[48, 26]],\n",
       " \n",
       "        [[48, 27]],\n",
       " \n",
       "        [[49, 27]],\n",
       " \n",
       "        [[50, 27]],\n",
       " \n",
       "        [[51, 27]],\n",
       " \n",
       "        [[52, 27]],\n",
       " \n",
       "        [[53, 26]],\n",
       " \n",
       "        [[53, 25]],\n",
       " \n",
       "        [[54, 24]],\n",
       " \n",
       "        [[55, 24]],\n",
       " \n",
       "        [[56, 23]],\n",
       " \n",
       "        [[57, 23]],\n",
       " \n",
       "        [[58, 22]],\n",
       " \n",
       "        [[59, 22]],\n",
       " \n",
       "        [[60, 22]],\n",
       " \n",
       "        [[61, 22]],\n",
       " \n",
       "        [[62, 22]],\n",
       " \n",
       "        [[63, 22]],\n",
       " \n",
       "        [[64, 23]],\n",
       " \n",
       "        [[65, 24]],\n",
       " \n",
       "        [[66, 24]],\n",
       " \n",
       "        [[67, 25]],\n",
       " \n",
       "        [[67, 26]],\n",
       " \n",
       "        [[67, 27]],\n",
       " \n",
       "        [[68, 27]],\n",
       " \n",
       "        [[69, 27]],\n",
       " \n",
       "        [[70, 27]],\n",
       " \n",
       "        [[70, 26]],\n",
       " \n",
       "        [[71, 25]],\n",
       " \n",
       "        [[72, 24]],\n",
       " \n",
       "        [[73, 24]],\n",
       " \n",
       "        [[74, 24]],\n",
       " \n",
       "        [[75, 24]],\n",
       " \n",
       "        [[76, 24]],\n",
       " \n",
       "        [[77, 24]],\n",
       " \n",
       "        [[78, 24]],\n",
       " \n",
       "        [[79, 25]],\n",
       " \n",
       "        [[80, 25]],\n",
       " \n",
       "        [[81, 25]],\n",
       " \n",
       "        [[81, 24]],\n",
       " \n",
       "        [[82, 23]],\n",
       " \n",
       "        [[83, 22]],\n",
       " \n",
       "        [[83, 21]],\n",
       " \n",
       "        [[84, 20]],\n",
       " \n",
       "        [[83, 19]],\n",
       " \n",
       "        [[83, 18]],\n",
       " \n",
       "        [[82, 17]],\n",
       " \n",
       "        [[82, 16]],\n",
       " \n",
       "        [[82, 15]],\n",
       " \n",
       "        [[81, 14]],\n",
       " \n",
       "        [[81, 13]],\n",
       " \n",
       "        [[81, 12]],\n",
       " \n",
       "        [[81, 11]],\n",
       " \n",
       "        [[82, 10]],\n",
       " \n",
       "        [[82,  9]],\n",
       " \n",
       "        [[82,  8]],\n",
       " \n",
       "        [[83,  7]],\n",
       " \n",
       "        [[83,  6]],\n",
       " \n",
       "        [[83,  5]],\n",
       " \n",
       "        [[82,  4]],\n",
       " \n",
       "        [[81,  4]],\n",
       " \n",
       "        [[80,  3]],\n",
       " \n",
       "        [[79,  2]],\n",
       " \n",
       "        [[78,  1]],\n",
       " \n",
       "        [[78,  0]],\n",
       " \n",
       "        [[77,  0]],\n",
       " \n",
       "        [[76,  0]],\n",
       " \n",
       "        [[75,  0]],\n",
       " \n",
       "        [[74,  0]],\n",
       " \n",
       "        [[73,  1]],\n",
       " \n",
       "        [[72,  2]],\n",
       " \n",
       "        [[71,  2]],\n",
       " \n",
       "        [[70,  2]],\n",
       " \n",
       "        [[69,  1]],\n",
       " \n",
       "        [[69,  0]],\n",
       " \n",
       "        [[68,  0]],\n",
       " \n",
       "        [[67,  0]],\n",
       " \n",
       "        [[66,  0]],\n",
       " \n",
       "        [[65,  0]],\n",
       " \n",
       "        [[64,  0]],\n",
       " \n",
       "        [[64,  1]],\n",
       " \n",
       "        [[63,  2]],\n",
       " \n",
       "        [[63,  3]],\n",
       " \n",
       "        [[62,  4]],\n",
       " \n",
       "        [[61,  5]],\n",
       " \n",
       "        [[61,  6]],\n",
       " \n",
       "        [[61,  7]],\n",
       " \n",
       "        [[61,  8]],\n",
       " \n",
       "        [[61,  9]],\n",
       " \n",
       "        [[61, 10]],\n",
       " \n",
       "        [[61, 11]],\n",
       " \n",
       "        [[60, 12]],\n",
       " \n",
       "        [[59, 13]],\n",
       " \n",
       "        [[58, 14]],\n",
       " \n",
       "        [[57, 15]],\n",
       " \n",
       "        [[56, 15]],\n",
       " \n",
       "        [[55, 16]],\n",
       " \n",
       "        [[54, 16]],\n",
       " \n",
       "        [[53, 16]],\n",
       " \n",
       "        [[52, 15]],\n",
       " \n",
       "        [[51, 14]],\n",
       " \n",
       "        [[51, 13]],\n",
       " \n",
       "        [[51, 12]],\n",
       " \n",
       "        [[51, 11]],\n",
       " \n",
       "        [[51, 10]],\n",
       " \n",
       "        [[50,  9]],\n",
       " \n",
       "        [[51,  8]],\n",
       " \n",
       "        [[51,  7]],\n",
       " \n",
       "        [[51,  6]],\n",
       " \n",
       "        [[51,  5]],\n",
       " \n",
       "        [[51,  4]],\n",
       " \n",
       "        [[52,  3]],\n",
       " \n",
       "        [[52,  2]],\n",
       " \n",
       "        [[52,  1]],\n",
       " \n",
       "        [[52,  0]],\n",
       " \n",
       "        [[51,  0]],\n",
       " \n",
       "        [[50,  0]],\n",
       " \n",
       "        [[49,  0]],\n",
       " \n",
       "        [[48,  0]],\n",
       " \n",
       "        [[48,  1]],\n",
       " \n",
       "        [[47,  2]],\n",
       " \n",
       "        [[46,  3]],\n",
       " \n",
       "        [[45,  4]],\n",
       " \n",
       "        [[44,  5]],\n",
       " \n",
       "        [[43,  6]],\n",
       " \n",
       "        [[42,  6]],\n",
       " \n",
       "        [[41,  5]],\n",
       " \n",
       "        [[40,  5]],\n",
       " \n",
       "        [[39,  4]],\n",
       " \n",
       "        [[38,  3]],\n",
       " \n",
       "        [[37,  3]],\n",
       " \n",
       "        [[36,  2]],\n",
       " \n",
       "        [[35,  2]],\n",
       " \n",
       "        [[34,  3]],\n",
       " \n",
       "        [[33,  4]],\n",
       " \n",
       "        [[32,  4]],\n",
       " \n",
       "        [[31,  4]],\n",
       " \n",
       "        [[30,  3]],\n",
       " \n",
       "        [[29,  3]],\n",
       " \n",
       "        [[28,  2]],\n",
       " \n",
       "        [[27,  1]],\n",
       " \n",
       "        [[27,  0]],\n",
       " \n",
       "        [[26,  0]],\n",
       " \n",
       "        [[25,  0]],\n",
       " \n",
       "        [[24,  0]]], dtype=int32)]"
      ]
     },
     "execution_count": 51,
     "metadata": {},
     "output_type": "execute_result"
    }
   ],
   "source": [
    "contours"
   ]
  },
  {
   "cell_type": "code",
   "execution_count": 53,
   "id": "occupational-weight",
   "metadata": {},
   "outputs": [
    {
     "data": {
      "text/plain": [
       "array([[[233, 231, 230],\n",
       "        [233, 231, 230],\n",
       "        [233, 231, 230],\n",
       "        ...,\n",
       "        [233, 231, 230],\n",
       "        [233, 231, 230],\n",
       "        [233, 231, 230]],\n",
       "\n",
       "       [[233, 231, 230],\n",
       "        [233, 231, 230],\n",
       "        [233, 231, 230],\n",
       "        ...,\n",
       "        [233, 231, 230],\n",
       "        [233, 231, 230],\n",
       "        [233, 231, 230]],\n",
       "\n",
       "       [[233, 231, 230],\n",
       "        [233, 231, 230],\n",
       "        [233, 231, 230],\n",
       "        ...,\n",
       "        [233, 231, 230],\n",
       "        [233, 231, 230],\n",
       "        [233, 231, 230]],\n",
       "\n",
       "       ...,\n",
       "\n",
       "       [[233, 231, 231],\n",
       "        [233, 231, 231],\n",
       "        [233, 231, 230],\n",
       "        ...,\n",
       "        [233, 231, 230],\n",
       "        [233, 231, 230],\n",
       "        [233, 231, 230]],\n",
       "\n",
       "       [[233, 231, 231],\n",
       "        [233, 231, 231],\n",
       "        [233, 231, 231],\n",
       "        ...,\n",
       "        [233, 231, 230],\n",
       "        [233, 231, 230],\n",
       "        [233, 231, 230]],\n",
       "\n",
       "       [[233, 231, 231],\n",
       "        [233, 231, 231],\n",
       "        [233, 231, 231],\n",
       "        ...,\n",
       "        [233, 231, 230],\n",
       "        [233, 231, 230],\n",
       "        [233, 231, 230]]], dtype=uint8)"
      ]
     },
     "execution_count": 53,
     "metadata": {},
     "output_type": "execute_result"
    }
   ],
   "source": [
    "cv2.drawContours(img, contours, -1, (0, 255, 0), 2)"
   ]
  },
  {
   "cell_type": "code",
   "execution_count": 54,
   "id": "accompanied-ordinary",
   "metadata": {},
   "outputs": [
    {
     "data": {
      "text/plain": [
       "<matplotlib.image.AxesImage at 0x121afe8e0>"
      ]
     },
     "execution_count": 54,
     "metadata": {},
     "output_type": "execute_result"
    },
    {
     "data": {
      "image/png": "[encoded data removed]",
      "text/plain": [
       "<Figure size 432x288 with 1 Axes>"
      ]
     },
     "metadata": {
      "needs_background": "light"
     },
     "output_type": "display_data"
    }
   ],
   "source": [
    "plt.imshow(img)"
   ]
  },
  {
   "cell_type": "code",
   "execution_count": 55,
   "id": "acquired-rover",
   "metadata": {},
   "outputs": [],
   "source": [
    "img = cv2.imread('test.jpg')"
   ]
  },
  {
   "cell_type": "code",
   "execution_count": 56,
   "id": "phantom-parish",
   "metadata": {},
   "outputs": [],
   "source": [
    "img = cv2.cvtColor(img, cv2.COLOR_BGR2RGB)"
   ]
  },
  {
   "cell_type": "code",
   "execution_count": 57,
   "id": "british-piece",
   "metadata": {},
   "outputs": [
    {
     "data": {
      "text/plain": [
       "<matplotlib.image.AxesImage at 0x1219e07c0>"
      ]
     },
     "execution_count": 57,
     "metadata": {},
     "output_type": "execute_result"
    },
    {
     "data": {
      "image/png": "[encoded data removed]",
      "text/plain": [
       "<Figure size 432x288 with 1 Axes>"
      ]
     },
     "metadata": {
      "needs_background": "light"
     },
     "output_type": "display_data"
    }
   ],
   "source": [
    "plt.imshow(img)"
   ]
  },
  {
   "cell_type": "code",
   "execution_count": 59,
   "id": "unexpected-sweet",
   "metadata": {},
   "outputs": [],
   "source": [
    "p = cv2.Laplacian(img, cv2.CV_64F).var()"
   ]
  },
  {
   "cell_type": "code",
   "execution_count": 60,
   "id": "smaller-composer",
   "metadata": {},
   "outputs": [
    {
     "name": "stdout",
     "output_type": "stream",
     "text": [
      "2622.411429388539\n"
     ]
    }
   ],
   "source": [
    "print(p)"
   ]
  },
  {
   "cell_type": "code",
   "execution_count": 61,
   "id": "spare-adaptation",
   "metadata": {},
   "outputs": [
    {
     "ename": "NameError",
     "evalue": "name 'np' is not defined",
     "output_type": "error",
     "traceback": [
      "\u001b[0;31m---------------------------------------------------------------------------\u001b[0m",
      "\u001b[0;31mNameError\u001b[0m                                 Traceback (most recent call last)",
      "\u001b[0;32m<ipython-input-61-b66425031980>\u001b[0m in \u001b[0;36m<module>\u001b[0;34m\u001b[0m\n\u001b[0;32m----> 1\u001b[0;31m \u001b[0mkernel\u001b[0m \u001b[0;34m=\u001b[0m \u001b[0mnp\u001b[0m\u001b[0;34m.\u001b[0m\u001b[0marray\u001b[0m\u001b[0;34m(\u001b[0m\u001b[0;34m[\u001b[0m\u001b[0;34m[\u001b[0m\u001b[0;36m0\u001b[0m\u001b[0;34m,\u001b[0m\u001b[0;34m-\u001b[0m\u001b[0;36m1\u001b[0m\u001b[0;34m,\u001b[0m\u001b[0;36m0\u001b[0m\u001b[0;34m]\u001b[0m\u001b[0;34m,\u001b[0m \u001b[0;34m[\u001b[0m\u001b[0;34m-\u001b[0m\u001b[0;36m1\u001b[0m\u001b[0;34m,\u001b[0m\u001b[0;36m5\u001b[0m\u001b[0;34m,\u001b[0m\u001b[0;34m-\u001b[0m\u001b[0;36m1\u001b[0m\u001b[0;34m]\u001b[0m\u001b[0;34m,\u001b[0m \u001b[0;34m[\u001b[0m\u001b[0;36m0\u001b[0m\u001b[0;34m,\u001b[0m\u001b[0;34m-\u001b[0m\u001b[0;36m1\u001b[0m\u001b[0;34m,\u001b[0m\u001b[0;36m0\u001b[0m\u001b[0;34m]\u001b[0m\u001b[0;34m]\u001b[0m\u001b[0;34m,\u001b[0m \u001b[0mnp\u001b[0m\u001b[0;34m.\u001b[0m\u001b[0mfloat32\u001b[0m\u001b[0;34m)\u001b[0m\u001b[0;34m\u001b[0m\u001b[0;34m\u001b[0m\u001b[0m\n\u001b[0m",
      "\u001b[0;31mNameError\u001b[0m: name 'np' is not defined"
     ]
    }
   ],
   "source": [
    "kernel = np.array([[0,-1,0], [-1,5,-1], [0,-1,0]], np.float32)"
   ]
  },
  {
   "cell_type": "code",
   "execution_count": 62,
   "id": "tropical-portugal",
   "metadata": {},
   "outputs": [],
   "source": [
    "import numpy as np"
   ]
  },
  {
   "cell_type": "code",
   "execution_count": 104,
   "id": "optimum-basics",
   "metadata": {},
   "outputs": [],
   "source": [
    "kernel = np.array([[0,-1,0], [-1,5,-1], [0,-1,0]], np.float32)"
   ]
  },
  {
   "cell_type": "code",
   "execution_count": 105,
   "id": "expected-consultancy",
   "metadata": {},
   "outputs": [],
   "source": [
    "res = cv2.filter2D(img, -1, kernel)"
   ]
  },
  {
   "cell_type": "code",
   "execution_count": 106,
   "id": "continuing-principal",
   "metadata": {},
   "outputs": [
    {
     "name": "stdout",
     "output_type": "stream",
     "text": [
      "22504.436269446604\n"
     ]
    }
   ],
   "source": [
    "p2 = cv2.Laplacian(res, cv2.CV_64F).var()\n",
    "print(p2)"
   ]
  },
  {
   "cell_type": "code",
   "execution_count": 107,
   "id": "retained-geometry",
   "metadata": {},
   "outputs": [
    {
     "data": {
      "text/plain": [
       "<matplotlib.image.AxesImage at 0x122c57580>"
      ]
     },
     "execution_count": 107,
     "metadata": {},
     "output_type": "execute_result"
    },
    {
     "data": {
      "image/png": "[encoded data removed]",
      "text/plain": [
       "<Figure size 432x288 with 1 Axes>"
      ]
     },
     "metadata": {
      "needs_background": "light"
     },
     "output_type": "display_data"
    }
   ],
   "source": [
    "plt.imshow(img)"
   ]
  },
  {
   "cell_type": "code",
   "execution_count": 108,
   "id": "younger-locator",
   "metadata": {},
   "outputs": [],
   "source": [
    "kernel = np.array([[-1,-1,-1], [-1,9,-1], [-1,-1,-1]], np.float32) "
   ]
  },
  {
   "cell_type": "code",
   "execution_count": 109,
   "id": "alleged-outdoors",
   "metadata": {},
   "outputs": [],
   "source": [
    "res =cv2.filter2D(res, -1, kernel)"
   ]
  },
  {
   "cell_type": "code",
   "execution_count": 110,
   "id": "increasing-ribbon",
   "metadata": {},
   "outputs": [],
   "source": [
    "p2 = cv2.Laplacian(res, cv2.CV_64F).var()"
   ]
  },
  {
   "cell_type": "code",
   "execution_count": 111,
   "id": "waiting-unknown",
   "metadata": {},
   "outputs": [
    {
     "name": "stdout",
     "output_type": "stream",
     "text": [
      "117408.0466726354\n"
     ]
    }
   ],
   "source": [
    "print(p2)"
   ]
  },
  {
   "cell_type": "code",
   "execution_count": 112,
   "id": "blond-optimization",
   "metadata": {},
   "outputs": [
    {
     "data": {
      "text/plain": [
       "<matplotlib.image.AxesImage at 0x122cbc4f0>"
      ]
     },
     "execution_count": 112,
     "metadata": {},
     "output_type": "execute_result"
    },
    {
     "data": {
      "image/png": "[encoded data removed]",
      "text/plain": [
       "<Figure size 432x288 with 1 Axes>"
      ]
     },
     "metadata": {
      "needs_background": "light"
     },
     "output_type": "display_data"
    }
   ],
   "source": [
    "plt.imshow(img)"
   ]
  },
  {
   "cell_type": "code",
   "execution_count": 113,
   "id": "democratic-dance",
   "metadata": {},
   "outputs": [
    {
     "data": {
      "text/plain": [
       "<matplotlib.image.AxesImage at 0x122d1b670>"
      ]
     },
     "execution_count": 113,
     "metadata": {},
     "output_type": "execute_result"
    },
    {
     "data": {
      "image/png": "[encoded data removed]",
      "text/plain": [
       "<Figure size 432x288 with 1 Axes>"
      ]
     },
     "metadata": {
      "needs_background": "light"
     },
     "output_type": "display_data"
    }
   ],
   "source": [
    "plt.imshow(img)"
   ]
  },
  {
   "cell_type": "code",
   "execution_count": 118,
   "id": "informational-record",
   "metadata": {},
   "outputs": [],
   "source": [
    "gray = cv2.cvtColor(img, cv2.COLOR_RGB2GRAY)"
   ]
  },
  {
   "cell_type": "code",
   "execution_count": 119,
   "id": "superior-scanning",
   "metadata": {},
   "outputs": [
    {
     "data": {
      "text/plain": [
       "<matplotlib.image.AxesImage at 0x122d83490>"
      ]
     },
     "execution_count": 119,
     "metadata": {},
     "output_type": "execute_result"
    },
    {
     "data": {
      "image/png": "[encoded data removed]",
      "text/plain": [
       "<Figure size 432x288 with 1 Axes>"
      ]
     },
     "metadata": {
      "needs_background": "light"
     },
     "output_type": "display_data"
    }
   ],
   "source": [
    "plt.imshow(gray)"
   ]
  },
  {
   "cell_type": "code",
   "execution_count": 124,
   "id": "heavy-iceland",
   "metadata": {},
   "outputs": [],
   "source": [
    "res, th = cv2.threshold(gray, 0, 255, cv2.THRESH_OTSU + cv2.THRESH_BINARY)"
   ]
  },
  {
   "cell_type": "code",
   "execution_count": 125,
   "id": "chemical-elements",
   "metadata": {},
   "outputs": [
    {
     "data": {
      "text/plain": [
       "<matplotlib.image.AxesImage at 0x122e3f0a0>"
      ]
     },
     "execution_count": 125,
     "metadata": {},
     "output_type": "execute_result"
    },
    {
     "data": {
      "image/png": "[encoded data removed]",
      "text/plain": [
       "<Figure size 432x288 with 1 Axes>"
      ]
     },
     "metadata": {
      "needs_background": "light"
     },
     "output_type": "display_data"
    }
   ],
   "source": [
    "plt.imshow(th)"
   ]
  },
  {
   "cell_type": "code",
   "execution_count": 126,
   "id": "disturbed-target",
   "metadata": {},
   "outputs": [],
   "source": [
    "ty = cv2.Canny(th, 100, 200)"
   ]
  },
  {
   "cell_type": "code",
   "execution_count": 128,
   "id": "broadband-blame",
   "metadata": {},
   "outputs": [
    {
     "data": {
      "text/plain": [
       "<matplotlib.image.AxesImage at 0x122e95eb0>"
      ]
     },
     "execution_count": 128,
     "metadata": {},
     "output_type": "execute_result"
    },
    {
     "data": {
      "image/png": "[encoded data removed]",
      "text/plain": [
       "<Figure size 432x288 with 1 Axes>"
      ]
     },
     "metadata": {
      "needs_background": "light"
     },
     "output_type": "display_data"
    }
   ],
   "source": [
    "plt.imshow(ty)"
   ]
  },
  {
   "cell_type": "code",
   "execution_count": null,
   "id": "level-technical",
   "metadata": {},
   "outputs": [],
   "source": []
  }
 ],
 "metadata": {
  "kernelspec": {
   "display_name": "Python 3",
   "language": "python",
   "name": "python3"
  },
  "language_info": {
   "codemirror_mode": {
    "name": "ipython",
    "version": 3
   },
   "file_extension": ".py",
   "mimetype": "text/x-python",
   "name": "python",
   "nbconvert_exporter": "python",
   "pygments_lexer": "ipython3",
   "version": "3.9.2"
  }
 },
 "nbformat": 4,
 "nbformat_minor": 5
}
